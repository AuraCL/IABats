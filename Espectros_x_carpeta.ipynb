{
 "cells": [
  {
   "cell_type": "code",
   "execution_count": 1,
   "metadata": {},
   "outputs": [],
   "source": [
    "%matplotlib inline\n",
    "import matplotlib.pyplot as plt"
   ]
  },
  {
   "cell_type": "code",
   "execution_count": 2,
   "metadata": {},
   "outputs": [],
   "source": [
    "import sys\n",
    "path = \"..\"\n",
    "sys.path.append(path)"
   ]
  },
  {
   "cell_type": "code",
   "execution_count": 3,
   "metadata": {},
   "outputs": [],
   "source": [
    "import pathlib\n",
    "import numpy as np\n",
    "import scipy"
   ]
  },
  {
   "cell_type": "code",
   "execution_count": 4,
   "metadata": {},
   "outputs": [],
   "source": [
    "import os\n",
    "os.chdir (r\"C:\\Users\\Vicentico\\Documents\\cosas del SS\\cloudedbats_dsp-master\\dsp4bats\")\n",
    "import dsp4bats"
   ]
  },
  {
   "cell_type": "code",
   "execution_count": 5,
   "metadata": {},
   "outputs": [],
   "source": [
    "os.chdir (r\"C:\\Users\\Vicentico\\Dropbox\\Grabaciones SS\\Vivero 091119\\wav\")\n",
    "direct= (r\"C:\\Users\\Vicentico\\Dropbox\\Grabaciones SS\\Vivero 091119\\wav\")"
   ]
  },
  {
   "cell_type": "code",
   "execution_count": 6,
   "metadata": {},
   "outputs": [],
   "source": [
    "#os.supports_fd"
   ]
  },
  {
   "cell_type": "code",
   "execution_count": 1,
   "metadata": {
    "scrolled": false
   },
   "outputs": [
    {
     "ename": "NameError",
     "evalue": "name 'os' is not defined",
     "output_type": "error",
     "traceback": [
      "\u001b[0;31m---------------------------------------------------------------------------\u001b[0m",
      "\u001b[0;31mNameError\u001b[0m                                 Traceback (most recent call last)",
      "\u001b[0;32m<ipython-input-1-c6dd53927354>\u001b[0m in \u001b[0;36m<module>\u001b[0;34m\u001b[0m\n\u001b[0;32m----> 1\u001b[0;31m \u001b[0;32mfor\u001b[0m \u001b[0mi\u001b[0m \u001b[0;32min\u001b[0m \u001b[0mos\u001b[0m\u001b[0;34m.\u001b[0m\u001b[0mlistdir\u001b[0m\u001b[0;34m(\u001b[0m\u001b[0mdirect\u001b[0m\u001b[0;34m)\u001b[0m\u001b[0;34m:\u001b[0m\u001b[0;34m\u001b[0m\u001b[0;34m\u001b[0m\u001b[0m\n\u001b[0m\u001b[1;32m      2\u001b[0m     \u001b[0mprint\u001b[0m \u001b[0;34m(\u001b[0m\u001b[0mdirect\u001b[0m\u001b[0;34m+\u001b[0m\u001b[0;34m\"\\\\\"\u001b[0m\u001b[0;34m+\u001b[0m\u001b[0mi\u001b[0m\u001b[0;34m)\u001b[0m\u001b[0;34m\u001b[0m\u001b[0;34m\u001b[0m\u001b[0m\n\u001b[1;32m      3\u001b[0m     \u001b[0msound_file\u001b[0m \u001b[0;34m=\u001b[0m \u001b[0;34m(\u001b[0m\u001b[0mdirect\u001b[0m\u001b[0;34m+\u001b[0m\u001b[0;34m\"\\\\\"\u001b[0m\u001b[0;34m+\u001b[0m\u001b[0mi\u001b[0m\u001b[0;34m)\u001b[0m\u001b[0;34m\u001b[0m\u001b[0;34m\u001b[0m\u001b[0m\n\u001b[1;32m      4\u001b[0m \u001b[0;34m\u001b[0m\u001b[0m\n\u001b[1;32m      5\u001b[0m     \u001b[0mwave_reader\u001b[0m \u001b[0;34m=\u001b[0m \u001b[0mdsp4bats\u001b[0m\u001b[0;34m.\u001b[0m\u001b[0mWaveFileReader\u001b[0m\u001b[0;34m(\u001b[0m\u001b[0msound_file\u001b[0m\u001b[0;34m)\u001b[0m\u001b[0;34m\u001b[0m\u001b[0;34m\u001b[0m\u001b[0m\n",
      "\u001b[0;31mNameError\u001b[0m: name 'os' is not defined"
     ]
    }
   ],
   "source": [
    "for i in os.listdir(direct):\n",
    "    print (direct+\"\\\\\"+i)\n",
    "    sound_file = (direct+\"\\\\\"+i)\n",
    "    \n",
    "    wave_reader = dsp4bats.WaveFileReader(sound_file)\n",
    "    samp_width = wave_reader.samp_width\n",
    "    frame_rate = wave_reader.frame_rate\n",
    "    sampling_freq = wave_reader.sampling_freq\n",
    "    signal = wave_reader.read_buffer()\n",
    "    wave_reader.close()\n",
    "    \n",
    "    window_size = 512\n",
    "    dbsf_util = dsp4bats.DbfsSpectrumUtil(window_size=window_size, window_function='hann')\n",
    "    \n",
    "    jump = int(sampling_freq/1000/32)\n",
    "    size = int(len(signal) / jump)\n",
    "    matrix = dbsf_util.calc_dbfs_matrix(signal, matrix_size=size, jump=jump)\n",
    "    len(matrix)\n",
    "    \n",
    "    length_in_sec = len(signal) / sampling_freq\n",
    "    max_freq = sampling_freq / 1000 / 2 \n",
    "    \n",
    "    fig, ax = plt.subplots(figsize=(8, 5), \n",
    "                     dpi=300,\n",
    "                    )\n",
    "    ax.imshow(matrix.T, \n",
    "              cmap='inferno', \n",
    "              origin='lower',\n",
    "              extent=(0, length_in_sec, \n",
    "                      0, max_freq)\n",
    "             )\n",
    "    ax.axis('tight')\n",
    "    ax.set_ylabel('Frequency (kHz)')\n",
    "    ax.set_xlabel('Time (ms)')\n",
    "    #ax.set_ylim([0,160])\n",
    "\n",
    "    file_name = pathlib.Path(sound_file).stem + '_Spectrogram.png'\n",
    "    fig.savefig('' + file_name)\n",
    "    plt.show()\n"
   ]
  },
  {
   "cell_type": "code",
   "execution_count": 20,
   "metadata": {},
   "outputs": [],
   "source": []
  },
  {
   "cell_type": "code",
   "execution_count": 21,
   "metadata": {},
   "outputs": [],
   "source": [
    "window_size = 512\n",
    "dbsf_util = dsp4bats.DbfsSpectrumUtil(window_size=window_size, window_function='hann')"
   ]
  },
  {
   "cell_type": "code",
   "execution_count": 22,
   "metadata": {},
   "outputs": [
    {
     "data": {
      "text/plain": [
       "32000"
      ]
     },
     "execution_count": 22,
     "metadata": {},
     "output_type": "execute_result"
    }
   ],
   "source": [
    "jump = int(sampling_freq/1000/32)\n",
    "size = int(len(signal) / jump)\n",
    "matrix = dbsf_util.calc_dbfs_matrix(signal, matrix_size=size, jump=jump)\n",
    "len(matrix)"
   ]
  },
  {
   "cell_type": "code",
   "execution_count": null,
   "metadata": {},
   "outputs": [],
   "source": []
  },
  {
   "cell_type": "code",
   "execution_count": 2,
   "metadata": {},
   "outputs": [
    {
     "ename": "NameError",
     "evalue": "name 'signal' is not defined",
     "output_type": "error",
     "traceback": [
      "\u001b[0;31m---------------------------------------------------------------------------\u001b[0m",
      "\u001b[0;31mNameError\u001b[0m                                 Traceback (most recent call last)",
      "\u001b[0;32m<ipython-input-2-cce1866ae1cf>\u001b[0m in \u001b[0;36m<module>\u001b[0;34m\u001b[0m\n\u001b[0;32m----> 1\u001b[0;31m \u001b[0mlength_in_sec\u001b[0m \u001b[0;34m=\u001b[0m \u001b[0mlen\u001b[0m\u001b[0;34m(\u001b[0m\u001b[0msignal\u001b[0m\u001b[0;34m)\u001b[0m \u001b[0;34m/\u001b[0m \u001b[0msampling_freq\u001b[0m\u001b[0;34m\u001b[0m\u001b[0;34m\u001b[0m\u001b[0m\n\u001b[0m\u001b[1;32m      2\u001b[0m \u001b[0mmax_freq\u001b[0m \u001b[0;34m=\u001b[0m \u001b[0msampling_freq\u001b[0m \u001b[0;34m/\u001b[0m \u001b[0;36m1000\u001b[0m \u001b[0;34m/\u001b[0m \u001b[0;36m2\u001b[0m\u001b[0;34m\u001b[0m\u001b[0;34m\u001b[0m\u001b[0m\n\u001b[1;32m      3\u001b[0m \u001b[0;34m\u001b[0m\u001b[0m\n\u001b[1;32m      4\u001b[0m fig, ax = plt.subplots(figsize=(8, 5), \n\u001b[1;32m      5\u001b[0m                      \u001b[0mdpi\u001b[0m\u001b[0;34m=\u001b[0m\u001b[0;36m300\u001b[0m\u001b[0;34m,\u001b[0m\u001b[0;34m\u001b[0m\u001b[0;34m\u001b[0m\u001b[0m\n",
      "\u001b[0;31mNameError\u001b[0m: name 'signal' is not defined"
     ]
    }
   ],
   "source": [
    "length_in_sec = len(signal) / sampling_freq\n",
    "max_freq = sampling_freq / 1000 / 2 \n",
    "\n",
    "fig, ax = plt.subplots(figsize=(8, 5), \n",
    "                     dpi=300,\n",
    "                    )\n",
    "ax.imshow(matrix.T, \n",
    "          cmap='inferno', \n",
    "          origin='lower',\n",
    "          extent=(0, length_in_sec, \n",
    "                  0, max_freq)\n",
    "         )\n",
    "ax.axis('tight')\n",
    "ax.set_ylabel('Frequency (kHz)')\n",
    "ax.set_xlabel('Time (ms)')\n",
    "#ax.set_ylim([0,160])\n",
    "\n",
    "file_name = pathlib.Path(sound_file).stem + '_Spectrogram.png'\n",
    "fig.savefig('' + file_name)\n",
    "plt.show()"
   ]
  },
  {
   "cell_type": "code",
   "execution_count": null,
   "metadata": {},
   "outputs": [],
   "source": []
  }
 ],
 "metadata": {
  "kernelspec": {
   "display_name": "Python 3",
   "language": "python",
   "name": "python3"
  },
  "language_info": {
   "codemirror_mode": {
    "name": "ipython",
    "version": 3
   },
   "file_extension": ".py",
   "mimetype": "text/x-python",
   "name": "python",
   "nbconvert_exporter": "python",
   "pygments_lexer": "ipython3",
   "version": "3.8.3"
  }
 },
 "nbformat": 4,
 "nbformat_minor": 2
}
